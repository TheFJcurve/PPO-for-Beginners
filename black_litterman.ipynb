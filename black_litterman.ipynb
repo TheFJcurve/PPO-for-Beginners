{
 "cells": [
  {
   "cell_type": "markdown",
   "metadata": {},
   "source": [
    "# Fetching Historical Data"
   ]
  },
  {
   "cell_type": "code",
   "execution_count": 1,
   "metadata": {},
   "outputs": [],
   "source": [
    "import yfinance as yf\n",
    "import pandas as pd\n",
    "import numpy as np\n",
    "import cvxpy as cp\n",
    "import matplotlib.pyplot as plt\n",
    "from sklearn.covariance import LedoitWolf\n",
    "import ipywidgets as widgets"
   ]
  },
  {
   "cell_type": "code",
   "execution_count": 2,
   "metadata": {},
   "outputs": [],
   "source": [
    "# Fetch SP100 tickers from Wikipedia\n",
    "url = 'https://en.wikipedia.org/wiki/S%26P_100'\n",
    "tables = pd.read_html(url)\n",
    "df = pd.read_csv(\"hackathon_sample_v2.csv\")\n",
    "tickers = df.stock_ticker.unique()\n",
    "tickers = tickers[~pd.isnull(tickers)].tolist()[:100]\n",
    "\n",
    "# Fetch historical stock data\n",
    "start_date = '2000-01-01'\n",
    "end_date = '2023-07-30'\n",
    "\n",
    "data = yf.download(tickers, start=start_date, end=end_date)['Adj Close'].dropna(how='all', axis=1)"
   ]
  },
  {
   "cell_type": "code",
   "execution_count": null,
   "metadata": {},
   "outputs": [],
   "source": [
    "data"
   ]
  },
  {
   "cell_type": "markdown",
   "metadata": {},
   "source": [
    "# Preprocessing data"
   ]
  },
  {
   "cell_type": "code",
   "execution_count": 28,
   "metadata": {},
   "outputs": [],
   "source": [
    "# Calculate log returns\n",
    "returns = data.pct_change().dropna().apply(lambda x: np.log(1 + x))"
   ]
  },
  {
   "cell_type": "code",
   "execution_count": 29,
   "metadata": {},
   "outputs": [],
   "source": [
    "# Fill NaN values with mean return\n",
    "returns = returns.fillna(returns.mean())"
   ]
  },
  {
   "cell_type": "markdown",
   "metadata": {},
   "source": [
    "# Black Litterman"
   ]
  },
  {
   "cell_type": "code",
   "execution_count": 30,
   "metadata": {},
   "outputs": [],
   "source": [
    "# Variable for the portfolio weights\n",
    "w = cp.Variable(n)\n",
    "\n",
    "# Portfolio expected return\n",
    "expected_return = mu @ w\n",
    "\n",
    "# Portfolio variance\n",
    "variance = cp.quad_form(w, Sigma)\n",
    "\n",
    "# Investor views\n",
    "P = np.eye(n)\n",
    "Q = views\n",
    "\n",
    "# View uncertainty\n",
    "Omega = view_uncertainty\n",
    "\n",
    "# Market equilibrium returns\n",
    "Pi = market_equilibrium_returns\n",
    "\n",
    "# Black-Litterman model\n",
    "tau = 0.1\n",
    "Omega_inv = np.linalg.inv(Omega)\n",
    "Sigma_inv = np.linalg.inv(Sigma)\n",
    "\n",
    "# Posterior expected returns\n",
    "posterior_return = cp.inv_pos(cp.inv_pos(tau * Sigma_inv) + P.T @ Omega_inv @ P) @ (cp.inv_pos(tau * Sigma_inv) @ Pi + P.T @ Omega_inv @ Q)\n",
    "\n",
    "# Problem constraints\n",
    "constraints = [\n",
    "    cp.sum(w) == 1,  # Sum of weights equals 1\n",
    "    expected_return >= target_return  # Target expected return constraint\n",
    "]\n",
    "\n",
    "# Problem objective\n",
    "objective = cp.Minimize(variance)\n",
    "\n",
    "# Solve the problem\n",
    "problem = cp.Problem(objective, constraints)\n",
    "problem.solve()\n",
    "\n",
    "# Optimal portfolio weights\n",
    "optimal_weights = w.value"
   ]
  },
  {
   "cell_type": "code",
   "execution_count": null,
   "metadata": {},
   "outputs": [],
   "source": [
    "# Plot optimal portfolio weights\n",
    "plt.figure(figsize=(10, 6))\n",
    "plt.bar(returns.columns, optimal_weights)\n",
    "plt.xlabel('Asset')\n",
    "plt.ylabel('Weight')\n",
    "plt.title('Optimal Portfolio Weights (Black-Litterman Model)')\n",
    "plt.xticks(rotation=90)\n",
    "\n",
    "plt.show()"
   ]
  }
 ],
 "metadata": {
  "kernelspec": {
   "display_name": "venv",
   "language": "python",
   "name": "python3"
  },
  "language_info": {
   "codemirror_mode": {
    "name": "ipython",
    "version": 3
   },
   "file_extension": ".py",
   "mimetype": "text/x-python",
   "name": "python",
   "nbconvert_exporter": "python",
   "pygments_lexer": "ipython3",
   "version": "3.9.20"
  }
 },
 "nbformat": 4,
 "nbformat_minor": 2
}

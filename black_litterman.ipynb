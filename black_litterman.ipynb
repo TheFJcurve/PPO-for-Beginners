{
 "cells": [
  {
   "cell_type": "code",
   "execution_count": 1,
   "metadata": {},
   "outputs": [],
   "source": [
    "#Grab Data\n",
    "import yfinance as yf\n",
    "\n",
    "#Usual Suspects\n",
    "import pandas as pd\n",
    "import numpy as np\n",
    "import matplotlib.pyplot as plt\n",
    "\n",
    "# plt.style.use(\"seaborn-v0_8-deep\")\n",
    "\n",
    "import plotly.express as px\n",
    "from pypfopt.plotting import plot_weights\n",
    "import seaborn as sns\n",
    "\n",
    "# Use PyPortfolioOpt for Calculations\n",
    "from pypfopt import EfficientFrontier, objective_functions\n",
    "from pypfopt import black_litterman, risk_models\n",
    "from pypfopt import BlackLittermanModel, plotting\n",
    "from pypfopt import DiscreteAllocation"
   ]
  },
  {
   "cell_type": "code",
   "execution_count": 2,
   "metadata": {},
   "outputs": [],
   "source": [
    "#Create a Portfolio\n",
    "symbols = [\n",
    "    'AAPL',\n",
    "    'MSFT',\n",
    "    'META',\n",
    "    'AMZN',\n",
    "    'XOM',\n",
    "    'UNH',\n",
    "    'JNJ',\n",
    "    'V',\n",
    "    'HD',\n",
    "    'ABBV',\n",
    "    'KO',\n",
    "    'DIS',\n",
    "    'T',\n",
    "    'UPS',\n",
    "    'LMT',\n",
    "    'CAT',\n",
    "    'F',\n",
    "    'MAR',\n",
    "    'O',\n",
    "    'HSY'\n",
    "]"
   ]
  },
  {
   "cell_type": "code",
   "execution_count": 3,
   "metadata": {},
   "outputs": [
    {
     "name": "stderr",
     "output_type": "stream",
     "text": [
      "[*********************100%***********************]  20 of 20 completed\n"
     ]
    },
    {
     "data": {
      "text/html": [
       "<div>\n",
       "<style scoped>\n",
       "    .dataframe tbody tr th:only-of-type {\n",
       "        vertical-align: middle;\n",
       "    }\n",
       "\n",
       "    .dataframe tbody tr th {\n",
       "        vertical-align: top;\n",
       "    }\n",
       "\n",
       "    .dataframe thead th {\n",
       "        text-align: right;\n",
       "    }\n",
       "</style>\n",
       "<table border=\"1\" class=\"dataframe\">\n",
       "  <thead>\n",
       "    <tr style=\"text-align: right;\">\n",
       "      <th>Ticker</th>\n",
       "      <th>AAPL</th>\n",
       "      <th>ABBV</th>\n",
       "      <th>AMZN</th>\n",
       "      <th>CAT</th>\n",
       "      <th>DIS</th>\n",
       "      <th>F</th>\n",
       "      <th>HD</th>\n",
       "      <th>HSY</th>\n",
       "      <th>JNJ</th>\n",
       "      <th>KO</th>\n",
       "      <th>LMT</th>\n",
       "      <th>MAR</th>\n",
       "      <th>META</th>\n",
       "      <th>MSFT</th>\n",
       "      <th>O</th>\n",
       "      <th>T</th>\n",
       "      <th>UNH</th>\n",
       "      <th>UPS</th>\n",
       "      <th>V</th>\n",
       "      <th>XOM</th>\n",
       "    </tr>\n",
       "    <tr>\n",
       "      <th>Date</th>\n",
       "      <th></th>\n",
       "      <th></th>\n",
       "      <th></th>\n",
       "      <th></th>\n",
       "      <th></th>\n",
       "      <th></th>\n",
       "      <th></th>\n",
       "      <th></th>\n",
       "      <th></th>\n",
       "      <th></th>\n",
       "      <th></th>\n",
       "      <th></th>\n",
       "      <th></th>\n",
       "      <th></th>\n",
       "      <th></th>\n",
       "      <th></th>\n",
       "      <th></th>\n",
       "      <th></th>\n",
       "      <th></th>\n",
       "      <th></th>\n",
       "    </tr>\n",
       "  </thead>\n",
       "  <tbody>\n",
       "    <tr>\n",
       "      <th>2000-01-03 00:00:00+00:00</th>\n",
       "      <td>0.844004</td>\n",
       "      <td>NaN</td>\n",
       "      <td>4.468750</td>\n",
       "      <td>12.809785</td>\n",
       "      <td>22.934355</td>\n",
       "      <td>12.503567</td>\n",
       "      <td>39.068657</td>\n",
       "      <td>13.221469</td>\n",
       "      <td>24.316019</td>\n",
       "      <td>14.122949</td>\n",
       "      <td>10.843440</td>\n",
       "      <td>11.312893</td>\n",
       "      <td>NaN</td>\n",
       "      <td>35.935867</td>\n",
       "      <td>2.545421</td>\n",
       "      <td>6.692317</td>\n",
       "      <td>5.358777</td>\n",
       "      <td>34.991390</td>\n",
       "      <td>NaN</td>\n",
       "      <td>18.035826</td>\n",
       "    </tr>\n",
       "    <tr>\n",
       "      <th>2000-01-04 00:00:00+00:00</th>\n",
       "      <td>0.772846</td>\n",
       "      <td>NaN</td>\n",
       "      <td>4.096875</td>\n",
       "      <td>12.645138</td>\n",
       "      <td>24.277790</td>\n",
       "      <td>12.085781</td>\n",
       "      <td>37.008453</td>\n",
       "      <td>12.722550</td>\n",
       "      <td>23.425812</td>\n",
       "      <td>14.138607</td>\n",
       "      <td>11.211580</td>\n",
       "      <td>11.243352</td>\n",
       "      <td>NaN</td>\n",
       "      <td>34.721939</td>\n",
       "      <td>2.514753</td>\n",
       "      <td>6.300744</td>\n",
       "      <td>5.290233</td>\n",
       "      <td>33.882622</td>\n",
       "      <td>NaN</td>\n",
       "      <td>17.690359</td>\n",
       "    </tr>\n",
       "    <tr>\n",
       "      <th>2000-01-05 00:00:00+00:00</th>\n",
       "      <td>0.784155</td>\n",
       "      <td>NaN</td>\n",
       "      <td>3.487500</td>\n",
       "      <td>12.941502</td>\n",
       "      <td>25.285368</td>\n",
       "      <td>12.130543</td>\n",
       "      <td>37.757633</td>\n",
       "      <td>12.776011</td>\n",
       "      <td>23.673067</td>\n",
       "      <td>14.263863</td>\n",
       "      <td>11.278512</td>\n",
       "      <td>11.428805</td>\n",
       "      <td>NaN</td>\n",
       "      <td>35.088039</td>\n",
       "      <td>2.499418</td>\n",
       "      <td>6.398637</td>\n",
       "      <td>5.277772</td>\n",
       "      <td>35.480545</td>\n",
       "      <td>NaN</td>\n",
       "      <td>18.654768</td>\n",
       "    </tr>\n",
       "    <tr>\n",
       "      <th>2000-01-06 00:00:00+00:00</th>\n",
       "      <td>0.716296</td>\n",
       "      <td>NaN</td>\n",
       "      <td>3.278125</td>\n",
       "      <td>13.600108</td>\n",
       "      <td>24.277790</td>\n",
       "      <td>12.145466</td>\n",
       "      <td>35.959648</td>\n",
       "      <td>13.114557</td>\n",
       "      <td>24.414930</td>\n",
       "      <td>14.279512</td>\n",
       "      <td>11.445853</td>\n",
       "      <td>11.591083</td>\n",
       "      <td>NaN</td>\n",
       "      <td>33.912682</td>\n",
       "      <td>2.530087</td>\n",
       "      <td>6.274661</td>\n",
       "      <td>5.470937</td>\n",
       "      <td>35.480545</td>\n",
       "      <td>NaN</td>\n",
       "      <td>19.619169</td>\n",
       "    </tr>\n",
       "    <tr>\n",
       "      <th>2000-01-07 00:00:00+00:00</th>\n",
       "      <td>0.750226</td>\n",
       "      <td>NaN</td>\n",
       "      <td>3.478125</td>\n",
       "      <td>14.044664</td>\n",
       "      <td>23.893951</td>\n",
       "      <td>13.040709</td>\n",
       "      <td>38.057281</td>\n",
       "      <td>13.150193</td>\n",
       "      <td>25.453508</td>\n",
       "      <td>15.218962</td>\n",
       "      <td>11.479316</td>\n",
       "      <td>11.915634</td>\n",
       "      <td>NaN</td>\n",
       "      <td>34.355850</td>\n",
       "      <td>2.576090</td>\n",
       "      <td>6.328442</td>\n",
       "      <td>6.112743</td>\n",
       "      <td>34.632660</td>\n",
       "      <td>NaN</td>\n",
       "      <td>19.561590</td>\n",
       "    </tr>\n",
       "  </tbody>\n",
       "</table>\n",
       "</div>"
      ],
      "text/plain": [
       "Ticker                         AAPL  ABBV      AMZN        CAT        DIS  \\\n",
       "Date                                                                        \n",
       "2000-01-03 00:00:00+00:00  0.844004   NaN  4.468750  12.809785  22.934355   \n",
       "2000-01-04 00:00:00+00:00  0.772846   NaN  4.096875  12.645138  24.277790   \n",
       "2000-01-05 00:00:00+00:00  0.784155   NaN  3.487500  12.941502  25.285368   \n",
       "2000-01-06 00:00:00+00:00  0.716296   NaN  3.278125  13.600108  24.277790   \n",
       "2000-01-07 00:00:00+00:00  0.750226   NaN  3.478125  14.044664  23.893951   \n",
       "\n",
       "Ticker                             F         HD        HSY        JNJ  \\\n",
       "Date                                                                    \n",
       "2000-01-03 00:00:00+00:00  12.503567  39.068657  13.221469  24.316019   \n",
       "2000-01-04 00:00:00+00:00  12.085781  37.008453  12.722550  23.425812   \n",
       "2000-01-05 00:00:00+00:00  12.130543  37.757633  12.776011  23.673067   \n",
       "2000-01-06 00:00:00+00:00  12.145466  35.959648  13.114557  24.414930   \n",
       "2000-01-07 00:00:00+00:00  13.040709  38.057281  13.150193  25.453508   \n",
       "\n",
       "Ticker                            KO        LMT        MAR  META       MSFT  \\\n",
       "Date                                                                          \n",
       "2000-01-03 00:00:00+00:00  14.122949  10.843440  11.312893   NaN  35.935867   \n",
       "2000-01-04 00:00:00+00:00  14.138607  11.211580  11.243352   NaN  34.721939   \n",
       "2000-01-05 00:00:00+00:00  14.263863  11.278512  11.428805   NaN  35.088039   \n",
       "2000-01-06 00:00:00+00:00  14.279512  11.445853  11.591083   NaN  33.912682   \n",
       "2000-01-07 00:00:00+00:00  15.218962  11.479316  11.915634   NaN  34.355850   \n",
       "\n",
       "Ticker                            O         T       UNH        UPS   V  \\\n",
       "Date                                                                     \n",
       "2000-01-03 00:00:00+00:00  2.545421  6.692317  5.358777  34.991390 NaN   \n",
       "2000-01-04 00:00:00+00:00  2.514753  6.300744  5.290233  33.882622 NaN   \n",
       "2000-01-05 00:00:00+00:00  2.499418  6.398637  5.277772  35.480545 NaN   \n",
       "2000-01-06 00:00:00+00:00  2.530087  6.274661  5.470937  35.480545 NaN   \n",
       "2000-01-07 00:00:00+00:00  2.576090  6.328442  6.112743  34.632660 NaN   \n",
       "\n",
       "Ticker                           XOM  \n",
       "Date                                  \n",
       "2000-01-03 00:00:00+00:00  18.035826  \n",
       "2000-01-04 00:00:00+00:00  17.690359  \n",
       "2000-01-05 00:00:00+00:00  18.654768  \n",
       "2000-01-06 00:00:00+00:00  19.619169  \n",
       "2000-01-07 00:00:00+00:00  19.561590  "
      ]
     },
     "execution_count": 3,
     "metadata": {},
     "output_type": "execute_result"
    }
   ],
   "source": [
    "#Get the stock data\n",
    "portfolio = yf.download(symbols, start=\"2000-01-01\", end=\"2023-12-31\")['Adj Close']\n",
    "portfolio.head()"
   ]
  },
  {
   "cell_type": "code",
   "execution_count": 4,
   "metadata": {},
   "outputs": [
    {
     "name": "stderr",
     "output_type": "stream",
     "text": [
      "[*********************100%***********************]  1 of 1 completed\n"
     ]
    },
    {
     "data": {
      "text/plain": [
       "Date\n",
       "2000-01-03    93.004875\n",
       "2000-01-04    89.367851\n",
       "2000-01-05    89.527748\n",
       "2000-01-06    88.088852\n",
       "2000-01-07    93.204758\n",
       "Name: Adj Close, dtype: float64"
      ]
     },
     "execution_count": 4,
     "metadata": {},
     "output_type": "execute_result"
    }
   ],
   "source": [
    "#SP500 ETF Benchmark\n",
    "market_prices = yf.download(\"SPY\", start='2000-01-01', end='2023-12-31')[\"Adj Close\"]\n",
    "market_prices.head()"
   ]
  },
  {
   "cell_type": "code",
   "execution_count": 5,
   "metadata": {},
   "outputs": [],
   "source": [
    "mcaps = {}\n",
    "\n",
    "for t in symbols:\n",
    "    stock = yf.Ticker(t)\n",
    "    mcaps[t] = stock.info[\"marketCap\"]\n",
    "\n",
    "mcaps"
   ]
  },
  {
   "cell_type": "markdown",
   "metadata": {},
   "source": [
    "# Getting Priors"
   ]
  },
  {
   "cell_type": "code",
   "execution_count": null,
   "metadata": {},
   "outputs": [],
   "source": [
    "#Calculate Sigma and Delta to get implied market returns\n",
    "#Ledoit-Wolf is a particular form of shrinkage, where the shrinkage coefficient is computed using O?\n",
    "S = risk_models.CovarianceShrinkage(portfolio).ledoit_wolf()\n",
    "\n",
    "delta = black_litterman.market_implied_risk_aversion(market_prices)\n",
    "delta"
   ]
  },
  {
   "cell_type": "code",
   "execution_count": null,
   "metadata": {},
   "outputs": [],
   "source": [
    "#Visualize the Covariant Correlation\n",
    "sns.heatmap(S.corr(), cmap='coolwarm')"
   ]
  },
  {
   "cell_type": "code",
   "execution_count": null,
   "metadata": {},
   "outputs": [],
   "source": [
    "market_prior = black_litterman.market_implied_prior_returns(mcaps, delta, S)\n",
    "market_prior"
   ]
  },
  {
   "cell_type": "code",
   "execution_count": null,
   "metadata": {},
   "outputs": [],
   "source": [
    "#What am I looking at here?\n",
    "market_prior.plot.barh(figsize=(10,5));"
   ]
  },
  {
   "cell_type": "markdown",
   "metadata": {},
   "source": [
    "# Integrating Views"
   ]
  },
  {
   "cell_type": "code",
   "execution_count": 36,
   "metadata": {},
   "outputs": [],
   "source": [
    "#You don't have to provide views on all the assets\n",
    "viewdict = {\n",
    "    'AAPL':0.10,\n",
    "    'MSFT':0.10,\n",
    "    'META':0.05,\n",
    "    'AMZN':0.30,\n",
    "    'XOM':0.02,\n",
    "    'UNH':0.01,\n",
    "    'JNJ':0.15,\n",
    "    'V':0.09,\n",
    "    'HD':0.16,\n",
    "    'ABBV':0.07,\n",
    "    'KO':0.01,\n",
    "    'DIS':-0.23,\n",
    "    'T':0.16,\n",
    "    'UPS':0.10,\n",
    "    'LMT':-0.09,\n",
    "    'CAT':0.30,\n",
    "    'F':0.16,\n",
    "    'MAR':-0.08,\n",
    "    'O':0.30,\n",
    "    'HSY':-0.26\n",
    "}\n",
    "\n",
    "bl = BlackLittermanModel(S, pi=market_prior, absolute_views=viewdict)"
   ]
  },
  {
   "cell_type": "markdown",
   "metadata": {},
   "source": [
    "## Creating Confidences"
   ]
  },
  {
   "cell_type": "code",
   "execution_count": 37,
   "metadata": {},
   "outputs": [],
   "source": [
    "intervals = [\n",
    "    (0, 0.25),\n",
    "    (0.1, 0.4),\n",
    "    (-0.1, 0.15),\n",
    "    (-0.05, 0.1),\n",
    "    (0.15, 0.25),\n",
    "    (-0.1, 0),\n",
    "    (0.1, 0.2),\n",
    "    (0.08, 0.12),\n",
    "    (0.1, 0.9),\n",
    "    (0, 0.3),\n",
    "    (0, 0.25),\n",
    "    (0.1, 0.4),\n",
    "    (-0.1, 0.15),\n",
    "    (-0.05, 0.1),\n",
    "    (0.15, 0.25),\n",
    "    (-0.1, 0),\n",
    "    (0.1, 0.2),\n",
    "    (0.08, 0.12),\n",
    "    (0.1, 0.9),\n",
    "    (0, 0.3),\n",
    "]"
   ]
  },
  {
   "cell_type": "code",
   "execution_count": null,
   "metadata": {},
   "outputs": [],
   "source": [
    "variances = []\n",
    "for lb, ub in intervals:\n",
    "    sigma = (ub - lb)/2\n",
    "    variances.append(sigma ** 2)\n",
    "\n",
    "print(variances)\n",
    "omega = np.diag(variances)"
   ]
  },
  {
   "cell_type": "markdown",
   "metadata": {},
   "source": [
    "# Calculate Posterior Estimate Returns"
   ]
  },
  {
   "cell_type": "code",
   "execution_count": null,
   "metadata": {},
   "outputs": [],
   "source": [
    "fig, ax = plt.subplots(figsize=(7,7))\n",
    "im = ax.imshow(omega)\n",
    "\n",
    "# We want to show all ticks...\n",
    "ax.set_xticks(np.arange(len(bl.tickers)))\n",
    "ax.set_yticks(np.arange(len(bl.tickers)))\n",
    "\n",
    "ax.set_xticklabels(bl.tickers)\n",
    "ax.set_yticklabels(bl.tickers)\n",
    "plt.show()"
   ]
  },
  {
   "cell_type": "code",
   "execution_count": 40,
   "metadata": {},
   "outputs": [],
   "source": [
    "# We are using the shortcut to automatically compute market-implied prior\n",
    "bl = BlackLittermanModel(S, pi=\"market\", market_caps=mcaps, risk_aversion=delta,\n",
    "                        absolute_views=viewdict, omega=omega)"
   ]
  },
  {
   "cell_type": "code",
   "execution_count": null,
   "metadata": {},
   "outputs": [],
   "source": [
    "# Posterior estimate of returns\n",
    "ret_bl = bl.bl_returns()\n",
    "ret_bl "
   ]
  },
  {
   "cell_type": "code",
   "execution_count": null,
   "metadata": {},
   "outputs": [],
   "source": [
    "rets_df = pd.DataFrame([market_prior, ret_bl, pd.Series(viewdict)],\n",
    "             index=[\"Prior\", \"Posterior\", \"Views\"]).T\n",
    "rets_df"
   ]
  },
  {
   "cell_type": "code",
   "execution_count": null,
   "metadata": {},
   "outputs": [],
   "source": [
    "rets_df.plot.bar(figsize=(12,8));"
   ]
  },
  {
   "cell_type": "code",
   "execution_count": null,
   "metadata": {},
   "outputs": [],
   "source": [
    "S_bl = bl.bl_cov()\n",
    "plotting.plot_covariance(S_bl);"
   ]
  },
  {
   "cell_type": "markdown",
   "metadata": {},
   "source": [
    "# Portfolio Allocation"
   ]
  },
  {
   "cell_type": "code",
   "execution_count": null,
   "metadata": {},
   "outputs": [],
   "source": [
    "ef = EfficientFrontier(ret_bl, S_bl)\n",
    "ef.add_objective(objective_functions.L2_reg)\n",
    "ef.max_sharpe()\n",
    "weights = ef.clean_weights()\n",
    "weights"
   ]
  },
  {
   "cell_type": "code",
   "execution_count": null,
   "metadata": {},
   "outputs": [],
   "source": [
    "pd.Series(weights).plot.pie(figsize=(9,9));"
   ]
  },
  {
   "cell_type": "code",
   "execution_count": null,
   "metadata": {},
   "outputs": [],
   "source": [
    "# Maximum Sharpe\n",
    "ef = EfficientFrontier(ret_bl, S_bl)\n",
    "ef.add_objective(objective_functions.L2_reg)\n",
    "ef.max_sharpe()\n",
    "weights = ef.clean_weights()\n",
    "\n",
    "plot_weights(weights)\n",
    "ef.portfolio_performance(verbose = True, risk_free_rate = 0.009)"
   ]
  }
 ],
 "metadata": {
  "kernelspec": {
   "display_name": "venv",
   "language": "python",
   "name": "python3"
  },
  "language_info": {
   "codemirror_mode": {
    "name": "ipython",
    "version": 3
   },
   "file_extension": ".py",
   "mimetype": "text/x-python",
   "name": "python",
   "nbconvert_exporter": "python",
   "pygments_lexer": "ipython3",
   "version": "3.10.15"
  }
 },
 "nbformat": 4,
 "nbformat_minor": 2
}
